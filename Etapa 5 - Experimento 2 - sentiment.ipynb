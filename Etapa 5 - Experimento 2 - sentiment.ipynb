{
 "cells": [
  {
   "cell_type": "code",
   "execution_count": 2,
   "metadata": {},
   "outputs": [],
   "source": [
    "from textblob import TextBlob\n",
    "import pandas as pd\n",
    "\n",
    "df = pd.read_excel(io = 'noticias_x.xls')"
   ]
  },
  {
   "cell_type": "markdown",
   "metadata": {},
   "source": []
  },
  {
   "cell_type": "code",
   "execution_count": 3,
   "metadata": {},
   "outputs": [
    {
     "data": {
      "text/plain": [
       "'0    DEAR BBCNEWS BEFORE ANYBODY STARTS TO WATCH YO...\\nName: newdata.text, dtype: object'"
      ]
     },
     "execution_count": 3,
     "metadata": {},
     "output_type": "execute_result"
    }
   ],
   "source": [
    "new_df = df.assign(score=0)\n",
    "new_df.columns\n",
    "string = str(new_df.head(1)['newdata.text'])\n",
    "(string)"
   ]
  },
  {
   "cell_type": "code",
   "execution_count": 4,
   "metadata": {},
   "outputs": [],
   "source": [
    "listOfData = new_df.to_numpy().tolist()\n",
    "scores = []\n",
    "for t in listOfData:\n",
    "    s = TextBlob(t[3]).polarity\n",
    "    if s < 0.00:\n",
    "        scores.append('negativa')\n",
    "    elif s > 0.00:\n",
    "        scores.append('positiva')\n",
    "    else:\n",
    "        scores.append('neutral/SI')\n",
    "\n",
    "        \n",
    "\n",
    "\n",
    "        "
   ]
  },
  {
   "cell_type": "code",
   "execution_count": 5,
   "metadata": {},
   "outputs": [],
   "source": [
    "new_df['score'] = scores\n",
    "        "
   ]
  },
  {
   "cell_type": "code",
   "execution_count": 6,
   "metadata": {},
   "outputs": [],
   "source": [
    "new_df.to_csv(\"sentiment_analysis.csv\")"
   ]
  }
 ],
 "metadata": {
  "kernelspec": {
   "display_name": "Python 3.9.13 64-bit (windows store)",
   "language": "python",
   "name": "python3"
  },
  "language_info": {
   "codemirror_mode": {
    "name": "ipython",
    "version": 3
   },
   "file_extension": ".py",
   "mimetype": "text/x-python",
   "name": "python",
   "nbconvert_exporter": "python",
   "pygments_lexer": "ipython3",
   "version": "3.9.13"
  },
  "orig_nbformat": 4,
  "vscode": {
   "interpreter": {
    "hash": "c8613e644302f8052d0a98b5ce041b8a1e874b34694768a2192ab4afd86812de"
   }
  }
 },
 "nbformat": 4,
 "nbformat_minor": 2
}
